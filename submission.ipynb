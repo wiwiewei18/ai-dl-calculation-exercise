{
 "cells": [
  {
   "cell_type": "markdown",
   "metadata": {},
   "source": [
    "# Submission"
   ]
  },
  {
   "cell_type": "code",
   "execution_count": null,
   "metadata": {},
   "outputs": [],
   "source": [
    "# !pip install rggrader"
   ]
  },
  {
   "cell_type": "code",
   "execution_count": null,
   "metadata": {},
   "outputs": [],
   "source": [
    "# from rggrader import submit\n",
    "\n",
    "# student_id = \"REAINTCZ\"\n",
    "# name = \"Wiwie Sanjaya\"\n",
    "# drive_link = \"https://github.com/wiwiewei18/ai-dl-calculation-exercise/tree/master\""
   ]
  },
  {
   "cell_type": "code",
   "execution_count": null,
   "metadata": {},
   "outputs": [],
   "source": [
    "# assignment_id = \"09-deep-learning-project\"\n",
    "# question_id = \"q1_linear_algebra\"\n",
    "# submit(student_id, name, assignment_id, str(-9.999999999999996), question_id, drive_link)"
   ]
  },
  {
   "cell_type": "code",
   "execution_count": null,
   "metadata": {},
   "outputs": [],
   "source": [
    "# assignment_id = \"09-deep-learning-project\"\n",
    "# question_id = \"q2_simple_neural_network\"\n",
    "# submit(student_id, name, assignment_id, str(20), question_id, drive_link)"
   ]
  },
  {
   "cell_type": "code",
   "execution_count": null,
   "metadata": {},
   "outputs": [],
   "source": [
    "# assignment_id = \"09-deep-learning-project\"\n",
    "# question_id = \"q3_complex_neural_network\"\n",
    "# submit(student_id, name, assignment_id, str(1.3613280000000012), question_id, drive_link)"
   ]
  },
  {
   "cell_type": "code",
   "execution_count": null,
   "metadata": {},
   "outputs": [],
   "source": [
    "# assignment_id = \"09-deep-learning-project\"\n",
    "\n",
    "# # Please change this\n",
    "# cost = 0.12\n",
    "\n",
    "# # Don't forget to fill in the link to your Google Sheet\n",
    "# link_to_gsheet = \"https://docs.google.com/spreadsheets/d/1HaG6SZoRvtTaxZHqkalM5BjrTnumaw7DOEwtbfbhKLY/edit?usp=sharing\"\n",
    "\n",
    "# question_id = \"q4_cost_function_cost\"\n",
    "# submit(student_id, name, assignment_id, str(cost), question_id)\n",
    "\n",
    "# question_id = \"q4_cost_function_gsheet\"\n",
    "# submit(student_id, name, assignment_id, str(link_to_gsheet), question_id, drive_link)"
   ]
  },
  {
   "cell_type": "code",
   "execution_count": null,
   "metadata": {},
   "outputs": [],
   "source": [
    "# assignment_id = \"09-deep-learning-project\"\n",
    "\n",
    "# # Please change this\n",
    "# cost = 0\n",
    "\n",
    "# # Don't forget to fill in the link to your Google Sheet\n",
    "# link_to_gsheet = \"https://docs.google.com/spreadsheets/d/1HaG6SZoRvtTaxZHqkalM5BjrTnumaw7DOEwtbfbhKLY/edit?usp=sharing\"\n",
    "\n",
    "# question_id = \"q5_cost_function_cost\"\n",
    "# submit(student_id, name, assignment_id, str(cost), question_id)\n",
    "\n",
    "# question_id = \"q5_cost_function_gsheet\"\n",
    "# submit(student_id, name, assignment_id, str(link_to_gsheet), question_id, drive_link)"
   ]
  }
 ],
 "metadata": {
  "kernelspec": {
   "display_name": ".venv",
   "language": "python",
   "name": "python3"
  },
  "language_info": {
   "name": "python",
   "version": "3.13.0"
  }
 },
 "nbformat": 4,
 "nbformat_minor": 2
}
